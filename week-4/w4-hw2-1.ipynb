{
 "metadata": {
  "language_info": {
   "codemirror_mode": {
    "name": "ipython",
    "version": 3
   },
   "file_extension": ".py",
   "mimetype": "text/x-python",
   "name": "python",
   "nbconvert_exporter": "python",
   "pygments_lexer": "ipython3",
   "version": "3.8.5"
  },
  "orig_nbformat": 2,
  "kernelspec": {
   "name": "python385jvsc74a57bd0916dbcbb3f70747c44a77c7bcd40155683ae19c65e1c03b4aa3499c5328201f1",
   "display_name": "Python 3.8.5 64-bit"
  },
  "metadata": {
   "interpreter": {
    "hash": "916dbcbb3f70747c44a77c7bcd40155683ae19c65e1c03b4aa3499c5328201f1"
   }
  }
 },
 "nbformat": 4,
 "nbformat_minor": 2,
 "cells": [
  {
   "source": [
    "# Akbar Sahata S\n",
    "\n",
    "## Week 4 - Homework 2 - 1\n",
    "\n",
    "---\n",
    "\n",
    "### Instruksi\n",
    "\n",
    "Diberikan sebuah nilai X positif, tentukan apakah angka tersebut:\n",
    "\n",
    "- Kelipatan dari 2\n",
    "- Kelipatan dari 3\n",
    "- Kelipatan dari 5\n",
    "\n",
    "Jika angka tersebut memenuhi semua syarat diatas, tentukan apakah angka tersebut lebih dari 100. Cetak “angka ini diatas 100”, jika tidak, cetak “angka ini dibawah 100”\n",
    "\n"
   ],
   "cell_type": "markdown",
   "metadata": {}
  },
  {
   "cell_type": "code",
   "execution_count": 6,
   "metadata": {},
   "outputs": [
    {
     "output_type": "stream",
     "name": "stdout",
     "text": [
      "Kelipatan dari 2\nKelipatan dari 3\nKelipatan dari 5\nangka ini diatas 100\n"
     ]
    }
   ],
   "source": [
    "inputNum = int(input('masukkan angka: '))\n",
    "\n",
    "isMultiple = 0\n",
    "numberToCheck = [2,3,5]\n",
    "\n",
    "for num in numberToCheck:\n",
    "    if inputNum % num == 0:\n",
    "        print('Kelipatan dari {}'.format(num))\n",
    "        isMultiple += 1\n",
    "\n",
    "if isMultiple == len(numberToCheck):\n",
    "    if inputNum > 100:\n",
    "        print('angka ini diatas 100')\n",
    "    else:\n",
    "        print('angka ini dibawah 100')\n",
    "\n",
    "\n"
   ]
  },
  {
   "source": [],
   "cell_type": "markdown",
   "metadata": {}
  }
 ]
}