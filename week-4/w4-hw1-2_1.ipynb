{
  "nbformat": 4,
  "nbformat_minor": 0,
  "metadata": {
    "colab": {
      "name": "Week 4 - Homework 1 - 2.1.ipynb",
      "provenance": [],
      "collapsed_sections": []
    },
    "kernelspec": {
      "display_name": "Python 3",
      "language": "python",
      "name": "python3"
    },
    "language_info": {
      "codemirror_mode": {
        "name": "ipython",
        "version": 3
      },
      "file_extension": ".py",
      "mimetype": "text/x-python",
      "name": "python",
      "nbconvert_exporter": "python",
      "pygments_lexer": "ipython3",
      "version": "3.8.5"
    }
  },
  "cells": [
    {
      "cell_type": "markdown",
      "metadata": {
        "id": "37V7ZOpEwt-6"
      },
      "source": [
        "# Akbar Sahata S\n",
        "\n",
        "### Week 4 - Homework 1 - 2.1\n",
        "\n",
        "---\n",
        "\n",
        "## Soal 1: Hello World to Python\n",
        "    \n",
        "Print Say Hello World to Python"
      ]
    },
    {
      "cell_type": "code",
      "metadata": {
        "id": "a4yR8AILwt-8",
        "colab": {
          "base_uri": "https://localhost:8080/"
        },
        "outputId": "984198b9-82fb-4fd1-cf14-ae673220e054"
      },
      "source": [
        "print(\"Hello World Python\")"
      ],
      "execution_count": 1,
      "outputs": [
        {
          "output_type": "stream",
          "text": [
            "Hello World Python\n"
          ],
          "name": "stdout"
        }
      ]
    },
    {
      "cell_type": "markdown",
      "metadata": {
        "id": "fftihhaUwt_B"
      },
      "source": [
        "Expected Output : \n",
        "\n",
        "Hello World Python"
      ]
    },
    {
      "cell_type": "markdown",
      "metadata": {
        "id": "1aEipc1Swt_C"
      },
      "source": [
        "<h2>Soal 2: Aritmatika di Python </h2>\n",
        "    \n",
        "- Buat statement pertambahan antara 2 number di Python\n",
        "- Buat statement perkurangan antara 2 number di Python\n",
        "- Buat statement perkalian antara 2 number di Python\n",
        "- Buat statement pembagian antara 2 number di Python"
      ]
    },
    {
      "cell_type": "code",
      "execution_count": 2,
      "metadata": {},
      "outputs": [],
      "source": [
        "a = 1\n",
        "b = 2"
      ]
    },
    {
      "cell_type": "code",
      "metadata": {
        "id": "hOlCjZzrwt_D",
        "colab": {
          "base_uri": "https://localhost:8080/"
        },
        "outputId": "637bb468-e6a1-4292-bcc9-3de1a96f0b42"
      },
      "source": [
        "print(a + b)"
      ],
      "execution_count": 3,
      "outputs": [
        {
          "output_type": "stream",
          "name": "stdout",
          "text": [
            "3\n"
          ]
        }
      ]
    },
    {
      "cell_type": "code",
      "metadata": {
        "id": "e0rH8Vxbrv2N",
        "colab": {
          "base_uri": "https://localhost:8080/"
        },
        "outputId": "f1d7aebd-5939-43ad-f8f4-20f5a974e007"
      },
      "source": [
        "print(b - a)"
      ],
      "execution_count": 4,
      "outputs": [
        {
          "output_type": "stream",
          "name": "stdout",
          "text": [
            "1\n"
          ]
        }
      ]
    },
    {
      "cell_type": "code",
      "metadata": {
        "id": "_wrol3Zrrv2N",
        "colab": {
          "base_uri": "https://localhost:8080/"
        },
        "outputId": "1fe29cc9-b30f-42e6-ff7f-c397cd278745"
      },
      "source": [
        "print(a * b)"
      ],
      "execution_count": 5,
      "outputs": [
        {
          "output_type": "stream",
          "name": "stdout",
          "text": [
            "2\n"
          ]
        }
      ]
    },
    {
      "cell_type": "code",
      "metadata": {
        "id": "jmYB0frArv2N",
        "colab": {
          "base_uri": "https://localhost:8080/"
        },
        "outputId": "76f4b5fe-0e9e-4877-ed98-ba8f864e744d"
      },
      "source": [
        "print(a / b)"
      ],
      "execution_count": 6,
      "outputs": [
        {
          "output_type": "stream",
          "name": "stdout",
          "text": [
            "0.5\n"
          ]
        }
      ]
    },
    {
      "cell_type": "markdown",
      "metadata": {
        "id": "DgUFNMtZwt_G"
      },
      "source": [
        "<h2>Quiz 3: Assign Variable dan Tipe Data Integer, Float </h2>\n",
        "\n",
        "- Buat suatu variabel a dan b, dimana a dan b adalah nilai bertipe data numeric\n",
        "- Berikan suatu nilai bertipe data integer, hasil pembagian dari a dengan b\n",
        "- Berikan suatu nilai bertipe data float, hasil pembagian dari a dengan b"
      ]
    },
    {
      "cell_type": "code",
      "metadata": {
        "id": "UKBRwakHrv2P"
      },
      "source": [
        "a = 1\n",
        "b = 2"
      ],
      "execution_count": 7,
      "outputs": []
    },
    {
      "cell_type": "code",
      "metadata": {
        "id": "_l1SDPNXrv2P",
        "colab": {
          "base_uri": "https://localhost:8080/"
        },
        "outputId": "4035a6ef-a0c0-4f37-8183-66aeae90dab0"
      },
      "source": [
        "print(int(a/b))"
      ],
      "execution_count": 8,
      "outputs": [
        {
          "output_type": "stream",
          "name": "stdout",
          "text": [
            "0\n"
          ]
        }
      ]
    },
    {
      "cell_type": "code",
      "metadata": {
        "id": "9cnxE3klrv2Q",
        "colab": {
          "base_uri": "https://localhost:8080/"
        },
        "outputId": "7a24ea33-241d-4940-ab68-d8b913ad799c"
      },
      "source": [
        "print(a/b)"
      ],
      "execution_count": 9,
      "outputs": [
        {
          "output_type": "stream",
          "name": "stdout",
          "text": [
            "0.5\n"
          ]
        }
      ]
    },
    {
      "cell_type": "markdown",
      "metadata": {
        "id": "XmjLgW7Zwt_L"
      },
      "source": [
        "<h2>Soal 4: String Operation </h2>\n",
        "\n",
        "- masukan nama depan kamu kedalam suatu variable firstname\n",
        "- masukan nama belakang kamu kedalam suatu variable lasname\n",
        "- tampilkan suatu kalimat 'Hello digitalskola, saya firstname lastname! saya siap belajar python data science.'"
      ]
    },
    {
      "cell_type": "code",
      "metadata": {
        "id": "lSRwZ7xXwt_M",
        "colab": {
          "base_uri": "https://localhost:8080/"
        },
        "outputId": "569a9f7f-b5e8-4af8-dc9b-b89cec641fc1"
      },
      "source": [
        "firstname = input()\n",
        "lastname = input()\n",
        "sentence = (\n",
        "  \"Hello digitalskola, saya {firstname} {lastname}! \"\n",
        "  \"saya siap belajar python data science.\"\n",
        ").format(firstname = firstname, lastname = lastname)\n",
        "\n",
        "print(sentence)"
      ],
      "execution_count": 10,
      "outputs": [
        {
          "output_type": "stream",
          "name": "stdout",
          "text": [
            "Hello digitalskola, saya akbar sahata! saya siap belajar python data science.\n"
          ]
        }
      ]
    },
    {
      "cell_type": "markdown",
      "metadata": {
        "id": "0ROQJqBXwt_Q"
      },
      "source": [
        "Expected Output :\n",
        "\n",
        "Hello digitalskola, saya ahmad wali! saya siap belajar python data science."
      ]
    },
    {
      "cell_type": "markdown",
      "metadata": {
        "id": "9DaWI8xdwt_Q"
      },
      "source": [
        "<h2>Soal 5: Tipe Data</h2>\n",
        "\n",
        "Lengkapi code di bawah ini untuk menghasilkan output yang sesuai"
      ]
    },
    {
      "cell_type": "code",
      "metadata": {
        "id": "wcDbgbjTwt_R",
        "colab": {
          "base_uri": "https://localhost:8080/"
        },
        "outputId": "82661f4e-661d-46cf-b395-3fdbca500c86"
      },
      "source": [
        "p = 9.99999\n",
        "q = 'the number: {}'.format(p)\n",
        "print(q)"
      ],
      "execution_count": 27,
      "outputs": [
        {
          "output_type": "stream",
          "text": [
            "the number: 9.99999\n"
          ],
          "name": "stdout"
        }
      ]
    },
    {
      "cell_type": "markdown",
      "metadata": {
        "id": "wdVRjDoLwt_V"
      },
      "source": [
        "Expected Output :\n",
        "\n",
        "the number: 9.99999"
      ]
    }
  ]
}